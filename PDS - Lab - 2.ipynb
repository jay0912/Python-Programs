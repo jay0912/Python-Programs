{
 "cells": [
  {
   "cell_type": "markdown",
   "metadata": {},
   "source": [
    "\n",
    "___\n",
    "\n",
    "<a href='https://www.darshan.ac.in/'> <img src='https://gtu.darshan.ac.in/Upload/Logo/DIET_Logo.svg' /></a>\n",
    "___\n",
    "<pre>\n",
    "<center><b>Python for Data Science - 3150713</b></center>\n",
    "<center><b>Lab - 2</b></center>\n",
    "<center><i>Rewrite all the programs of Lab-1 with Function</i></center> \n",
    "<pre>"
   ]
  },
  {
   "cell_type": "markdown",
   "metadata": {},
   "source": [
    "# 01) WAP to add two numbers entered by user"
   ]
  },
  {
   "cell_type": "code",
   "execution_count": 1,
   "metadata": {},
   "outputs": [
    {
     "name": "stdout",
     "output_type": "stream",
     "text": [
      "\n",
      "Addition of the  2  and  5  is :  7\n"
     ]
    }
   ],
   "source": [
    "def Add(n1, n2):\n",
    "    print(\"\\nAddition of the \",n1,\" and \",n2,\" is : \",(n1+n2))\n",
    "\n",
    "n1 = int(input(\"Enter Number 1 : \"))\n",
    "n2 = int(input(\"Enter Number 2 : \"))\n",
    "\n",
    "Add(n1, n2)"
   ]
  },
  {
   "cell_type": "markdown",
   "metadata": {},
   "source": [
    "# 02) WAP to calculate simple interest."
   ]
  },
  {
   "cell_type": "code",
   "execution_count": 4,
   "metadata": {},
   "outputs": [
    {
     "name": "stdout",
     "output_type": "stream",
     "text": [
      "\n",
      "Simple Intrest is :  100.0\n"
     ]
    }
   ],
   "source": [
    "def Simple_Intrest(p, r, t):\n",
    "    print(\"\\nSimple Intrest is : \", ((p*r*t)/100))\n",
    "\n",
    "p = int(input(\"Enter Principle : \"))\n",
    "r = int(input(\"Enter Rate of Intrest : \"))\n",
    "t = int(input(\"Enter Time : \"))\n",
    "\n",
    "Simple_Intrest(p, r, t)"
   ]
  },
  {
   "cell_type": "markdown",
   "metadata": {},
   "source": [
    "# 03) WAP to calculate area of circle."
   ]
  },
  {
   "cell_type": "code",
   "execution_count": 5,
   "metadata": {},
   "outputs": [
    {
     "name": "stdout",
     "output_type": "stream",
     "text": [
      "\n",
      "Area of the circle is : 78.54\n"
     ]
    }
   ],
   "source": [
    "import math\n",
    "def Area(r):\n",
    "    area = math.pi * r * r\n",
    "    print(\"\\nArea of the circle is : %.2f\" %area)\n",
    "\n",
    "r = float(input(\"Enter the radius of the circle : \"))\n",
    "\n",
    "Area(r)\n",
    "\n"
   ]
  },
  {
   "cell_type": "markdown",
   "metadata": {},
   "source": [
    "# 04) WAP to print Multiplication table of given number without using loop."
   ]
  },
  {
   "cell_type": "code",
   "execution_count": 1,
   "metadata": {},
   "outputs": [
    {
     "name": "stdout",
     "output_type": "stream",
     "text": [
      "7  x  1  =  7\n",
      "7  x  2  =  14\n",
      "7  x  3  =  21\n",
      "7  x  4  =  28\n",
      "7  x  5  =  35\n",
      "7  x  6  =  42\n",
      "7  x  7  =  49\n",
      "7  x  8  =  56\n",
      "7  x  9  =  63\n",
      "7  x  10 =  70\n"
     ]
    }
   ],
   "source": [
    "def Table(n):\n",
    "    print(n,\" x  1  = \",(n*1))\n",
    "    print(n,\" x  2  = \",(n*2))\n",
    "    print(n,\" x  3  = \",(n*3))\n",
    "    print(n,\" x  4  = \",(n*4))\n",
    "    print(n,\" x  5  = \",(n*5))\n",
    "    print(n,\" x  6  = \",(n*6))\n",
    "    print(n,\" x  7  = \",(n*7))\n",
    "    print(n,\" x  8  = \",(n*8))\n",
    "    print(n,\" x  9  = \",(n*9))\n",
    "    print(n,\" x  10 = \",(n*10))\n",
    "\n",
    "n = int(input(\"Enter Number to print table : \"))\n",
    "\n",
    "Table(n)"
   ]
  },
  {
   "cell_type": "markdown",
   "metadata": {},
   "source": [
    "# 05) WAP to check whether the given number is positive or negative."
   ]
  },
  {
   "cell_type": "code",
   "execution_count": 7,
   "metadata": {},
   "outputs": [
    {
     "name": "stdout",
     "output_type": "stream",
     "text": [
      "20  Is Positive Number.\n"
     ]
    }
   ],
   "source": [
    "def Check(n):\n",
    "    if n>0:\n",
    "        print(n,\" Is Positive Number.\")\n",
    "    elif n<0:\n",
    "        print(n,\" Is Negative Number.\")\n",
    "    else:\n",
    "        print(n,\" Is niether Positive nor Negative.\")\n",
    "\n",
    "\n",
    "n = int(input(\"Entr Number : \"))\n",
    "\n",
    "Check(n)"
   ]
  },
  {
   "cell_type": "markdown",
   "metadata": {},
   "source": [
    "# 06) WAP to find out largest number from given three numbers."
   ]
  },
  {
   "cell_type": "code",
   "execution_count": 8,
   "metadata": {},
   "outputs": [
    {
     "name": "stdout",
     "output_type": "stream",
     "text": [
      "\n",
      "Largest Number is :  25\n"
     ]
    }
   ],
   "source": [
    "def Largest(n1,n2,n3):\n",
    "    max = (n1 if(n1>n2 and n1>n3) else\n",
    "      (n2 if(n2>n1 and n2>n3) else n3))\n",
    "\n",
    "    print(\"\\nLargest Number is : \",max)\n",
    "\n",
    "n1 = int(input(\"Enter Number 1 : \"))\n",
    "n2 = int(input(\"Enter Number 2 : \"))\n",
    "n3 = int(input(\"Enter Number 3 : \"))\n",
    "\n",
    "Largest(n1,n2,n3)"
   ]
  },
  {
   "cell_type": "markdown",
   "metadata": {},
   "source": [
    "# 07) WAP to implement simple calculator which performs (add,sub,mul,div) of two numbers based on user input."
   ]
  },
  {
   "cell_type": "code",
   "execution_count": 9,
   "metadata": {},
   "outputs": [
    {
     "name": "stdout",
     "output_type": "stream",
     "text": [
      "Addition is :  16\n"
     ]
    }
   ],
   "source": [
    "def Calc(n1,n2,op):\n",
    "    if op == '+' :\n",
    "        ans = n1 + n2\n",
    "        print(\"Addition is : \",ans)\n",
    "    elif op == '-' : \n",
    "        ans = n1 - n2\n",
    "        print(\"Substrction is : \",ans)\n",
    "    elif op == '*' : \n",
    "        ans = n1 * n2\n",
    "        print(\"Multiplication is : \",ans)\n",
    "    elif op == '/' : \n",
    "        ans = n1 / n2\n",
    "        print(\"Division is : \",ans)\n",
    "    else : \n",
    "        print(\"Invaild Opration!\") \n",
    "\n",
    "n1 = int(input(\"Enter Number 1 : \"))\n",
    "n2 = int(input(\"Enter Number 2 : \"))\n",
    "op = input(\"Enter Opration to be perform : \")\n",
    "\n",
    "Calc(n1,n2,op)"
   ]
  },
  {
   "cell_type": "markdown",
   "metadata": {},
   "source": [
    "# 08) WAP to print 1 to n"
   ]
  },
  {
   "cell_type": "code",
   "execution_count": 10,
   "metadata": {},
   "outputs": [
    {
     "name": "stdout",
     "output_type": "stream",
     "text": [
      "Series up to n : \n",
      "1 2 3 4 5 6 7 8 9 10 11 12 13 14 15 16 17 18 19 20 "
     ]
    }
   ],
   "source": [
    "def Print(n):\n",
    "    print(\"Series up to n : \")\n",
    "    for i in range(1, n+1):\n",
    "        print(i, end=\" \")\n",
    "\n",
    "n = int(input(\"Enter Number : \"))\n",
    "\n",
    "Print(n)"
   ]
  },
  {
   "cell_type": "markdown",
   "metadata": {},
   "source": [
    "# 09) WAP to print odd numbers between 1 to n"
   ]
  },
  {
   "cell_type": "code",
   "execution_count": 11,
   "metadata": {},
   "outputs": [
    {
     "name": "stdout",
     "output_type": "stream",
     "text": [
      "Series up to odd n : \n",
      "1 3 5 7 9 11 13 15 17 19 "
     ]
    }
   ],
   "source": [
    "def Print(n):\n",
    "    print(\"Series up to odd n : \")\n",
    "    for i in range(1, n+1):\n",
    "        if i%2 != 0:\n",
    "            print(i, end=\" \")\n",
    "\n",
    "n = int(input(\"Enter Number : \"))\n",
    "\n",
    "Print(n)"
   ]
  },
  {
   "cell_type": "markdown",
   "metadata": {},
   "source": [
    "# 10) WAP to print sum of series 1–2+3–4+5–6+7...n"
   ]
  },
  {
   "cell_type": "code",
   "execution_count": 12,
   "metadata": {},
   "outputs": [
    {
     "name": "stdout",
     "output_type": "stream",
     "text": [
      "Sum of the Series :\n",
      "1 - 2 + 3 - 4 + 5 - 6 + 7 - 8 + 9 - 10  :  -5\n"
     ]
    }
   ],
   "source": [
    "def Display(n):\n",
    "    odd = 0\n",
    "    even = 0\n",
    "    sum = 0\n",
    "\n",
    "    for i in range(1, n+1):\n",
    "        if i%2 == 0:\n",
    "            even = even - i\n",
    "        else : \n",
    "            odd = odd + i    \n",
    "        \n",
    "    sum = odd + even    \n",
    "\n",
    "    print(\"Sum of the Series :\")\n",
    "    for i in range (1, n+1):\n",
    "        if i==n :\n",
    "            print(i,\" : \",sum)\n",
    "        elif i%2 != 0 :\n",
    "            print(i,\"-\", end=\" \")    \n",
    "        else : \n",
    "            print(i,\"+\", end=\" \")\n",
    "\n",
    "n = int(input(\"Enter series limit : \"))\n",
    "\n",
    "Display(n)"
   ]
  },
  {
   "cell_type": "markdown",
   "metadata": {},
   "source": [
    "# 11) WAP to print multiplication table of given number."
   ]
  },
  {
   "cell_type": "code",
   "execution_count": 13,
   "metadata": {},
   "outputs": [
    {
     "name": "stdout",
     "output_type": "stream",
     "text": [
      "7  x  1  =  7\n",
      "7  x  2  =  14\n",
      "7  x  3  =  21\n",
      "7  x  4  =  28\n",
      "7  x  5  =  35\n",
      "7  x  6  =  42\n",
      "7  x  7  =  49\n",
      "7  x  8  =  56\n",
      "7  x  9  =  63\n",
      "7  x  10  =  70\n"
     ]
    }
   ],
   "source": [
    "def Table(n):\n",
    "    for i in range (1, 11):\n",
    "        print(n,\" x \",i,\" = \",(n*i))\n",
    "\n",
    "n = int(input(\"Enter number to print table : \"))\n",
    "\n",
    "Table(n)"
   ]
  },
  {
   "cell_type": "markdown",
   "metadata": {},
   "source": [
    "# 12) WAP to find factorial of the given number."
   ]
  },
  {
   "cell_type": "code",
   "execution_count": 14,
   "metadata": {},
   "outputs": [
    {
     "name": "stdout",
     "output_type": "stream",
     "text": [
      "Factorial of the given  6  is =  720\n"
     ]
    }
   ],
   "source": [
    "def Factorial(n):\n",
    "    fact = 1\n",
    "\n",
    "    for i in range(1, n+1):\n",
    "        fact = fact * i\n",
    "\n",
    "    print(\"Factorial of the given \",n,\" is = \",fact) \n",
    "    \n",
    "\n",
    "n = int(input(\"Enter number to find factorial : \"))\n",
    "\n",
    "Factorial(n)"
   ]
  },
  {
   "cell_type": "markdown",
   "metadata": {},
   "source": [
    "# 13) WAP to find factors of the given number."
   ]
  },
  {
   "cell_type": "code",
   "execution_count": 15,
   "metadata": {},
   "outputs": [
    {
     "name": "stdout",
     "output_type": "stream",
     "text": [
      "\n",
      "Factors of the  10  is : \n",
      "1 2 5 10 "
     ]
    }
   ],
   "source": [
    "def Factor(n):\n",
    "    print(\"\\nFactors of the \",n,\" is : \")\n",
    "\n",
    "    for i in range (1, n+1):\n",
    "        if n%i == 0 :\n",
    "            print(i , end=\" \")\n",
    "\n",
    "n = int(input(\"Enter nummber to find factors :\"))\n",
    "\n",
    "Factor(n)"
   ]
  },
  {
   "cell_type": "markdown",
   "metadata": {},
   "source": [
    "# 14) WAP to find whether the given number is prime or not."
   ]
  },
  {
   "cell_type": "code",
   "execution_count": 16,
   "metadata": {},
   "outputs": [
    {
     "name": "stdout",
     "output_type": "stream",
     "text": [
      "7  is Prime Number.\n"
     ]
    }
   ],
   "source": [
    "def Prime(n):\n",
    "    flag = False\n",
    "\n",
    "    for i in range (2, n):\n",
    "        if (n%i) == 0:\n",
    "            flag = True\n",
    "            break\n",
    "\n",
    "\n",
    "    if flag :\n",
    "        print(n,\" is Not Prime Number.\")\n",
    "    else :\n",
    "        print(n,\" is Prime Number.\")\n",
    "        \n",
    "\n",
    "n = int(input(\"Enter number to check prime : \"))\n",
    "\n",
    "Prime(n)"
   ]
  },
  {
   "cell_type": "markdown",
   "metadata": {},
   "source": [
    "# 15) WAP to print sum of digits of given number."
   ]
  },
  {
   "cell_type": "code",
   "execution_count": 17,
   "metadata": {},
   "outputs": [
    {
     "name": "stdout",
     "output_type": "stream",
     "text": [
      "Sum of the given number is :  11\n"
     ]
    }
   ],
   "source": [
    "def Display(n):\n",
    "    sum = 0\n",
    "\n",
    "    for i in range(1, n):\n",
    "        remainder = n % 10\n",
    "        sum = sum + remainder\n",
    "        n = n/10\n",
    "\n",
    "    print(\"Sum of the given number is : \",int(sum)) \n",
    "    \n",
    "\n",
    "n = int(input(\"Enter Number :\"))\n",
    "\n",
    "Display(n)"
   ]
  },
  {
   "cell_type": "markdown",
   "metadata": {},
   "source": [
    "# 16) WAP to find out prime numbers between given two numbers."
   ]
  },
  {
   "cell_type": "code",
   "execution_count": 21,
   "metadata": {},
   "outputs": [
    {
     "name": "stdout",
     "output_type": "stream",
     "text": [
      "3 5 7 11 13 17 19 "
     ]
    }
   ],
   "source": [
    "def Prime(n1, n2):\n",
    "    for i in range (n1, n2+1):\n",
    "        flag = True\n",
    "        for j in range (2, i):\n",
    "            if i%j == 0:\n",
    "                flag = False\n",
    "                break\n",
    "        if flag:\n",
    "            print(i, end=\" \")\n",
    "\n",
    "n1 = int(input(\"Enter number 1 : \"))\n",
    "n2 = int(input(\"Enter number 2 : \"))\n",
    "\n",
    "Prime(n1, n2)"
   ]
  },
  {
   "cell_type": "markdown",
   "metadata": {},
   "source": [
    "# 17) WAP to print Fibonacci series up to number given by user."
   ]
  },
  {
   "cell_type": "code",
   "execution_count": 23,
   "metadata": {},
   "outputs": [
    {
     "name": "stdout",
     "output_type": "stream",
     "text": [
      "Fibonacci series:\n",
      "0 1 1 2 3 5 8 13 21 34 "
     ]
    }
   ],
   "source": [
    "def Fibonacci(n):\n",
    "    a=0\n",
    "    b=1\n",
    "    temp =0\n",
    "\n",
    "    print(\"Fibonacci series:\")\n",
    "    for i in range (1, n+1):\n",
    "        a=b\n",
    "        b=temp\n",
    "        temp = a+b\n",
    "        print(b, end=\" \")\n",
    "        \n",
    "\n",
    "n = int(input(\"Enter number :\"))\n",
    "\n",
    "Fibonacci(n)"
   ]
  },
  {
   "cell_type": "markdown",
   "metadata": {},
   "source": [
    "# 18) WAP to Find largest prime factor of given number."
   ]
  },
  {
   "cell_type": "code",
   "execution_count": 2,
   "metadata": {},
   "outputs": [
    {
     "name": "stdout",
     "output_type": "stream",
     "text": [
      "20\n",
      "10\n",
      "5\n",
      "5 is the largest prime factor.\n"
     ]
    }
   ],
   "source": [
    "def LPF(n):\n",
    "    for i in range(n,0,-1): #this loop checks if the number is factor\n",
    "        flag=True\n",
    "        if n%i==0:\n",
    "            print(i)\n",
    "            for x in range(2,i): #this loop checks if the factor is prime\n",
    "                if i%x==0:\n",
    "                    flag=False #'false' value indicates that the factor is not a prime number\n",
    "                    break\n",
    "            if flag==True:\n",
    "                print(i,\"is the largest prime factor.\")\n",
    "                break \n",
    "\n",
    "n = int(input(\"Enter the number:\"))\n",
    "\n",
    "LPF(n)"
   ]
  },
  {
   "cell_type": "markdown",
   "metadata": {},
   "source": [
    "# 19) WAP to print sum for cube of first n natural numbers."
   ]
  },
  {
   "cell_type": "code",
   "execution_count": 25,
   "metadata": {},
   "outputs": [
    {
     "name": "stdout",
     "output_type": "stream",
     "text": [
      "SUM of first n cub is :  225\n"
     ]
    }
   ],
   "source": [
    "def sum(n):\n",
    "    sum = 0\n",
    "\n",
    "    for i in range(1, n+1):\n",
    "        sum = sum + i*i*i\n",
    "\n",
    "    print(\"SUM of first n cub is : \",sum)\n",
    "\n",
    "n = int(input(\"Enter number print sum for cube of first n natural : \"))\n",
    "\n",
    "sum(n)"
   ]
  },
  {
   "cell_type": "markdown",
   "metadata": {},
   "source": [
    "# 20) WAP to converts the given decimal number to its binary equivalent.\n",
    "\n"
   ]
  },
  {
   "cell_type": "code",
   "execution_count": 3,
   "metadata": {},
   "outputs": [
    {
     "name": "stdout",
     "output_type": "stream",
     "text": [
      "Binary Conversion: 10100\n"
     ]
    }
   ],
   "source": [
    "def Binary(n):\n",
    "    temp=\"\"\n",
    "\n",
    "    while n>0:\n",
    "        temp=temp+str(n%2)\n",
    "        n=int(n/2)\n",
    "    temp = temp[::-1]\n",
    "    print(\"Binary Conversion:\",temp)\n",
    "\n",
    "n = int(input(\"Enter the number:\"))\n",
    "\n",
    "Binary(n)"
   ]
  },
  {
   "cell_type": "markdown",
   "metadata": {},
   "source": [
    "# 21) WAP to print following pattern\n",
    "\n",
    "<pre>\n",
    "*\n",
    "* *\n",
    "* * *\n",
    "* * * *\n",
    "</pre>\n"
   ]
  },
  {
   "cell_type": "code",
   "execution_count": 26,
   "metadata": {},
   "outputs": [
    {
     "name": "stdout",
     "output_type": "stream",
     "text": [
      "* \n",
      "\n",
      "* * \n",
      "\n",
      "* * * \n",
      "\n",
      "* * * * \n",
      "\n"
     ]
    }
   ],
   "source": [
    "def Pattern(n):\n",
    "    for i in range(1, n+1):\n",
    "        for j in range (1, i+1):\n",
    "            print (\"*\", end=\" \")\n",
    "        print(\"\\n\")\n",
    "\n",
    "n = int(input(\"Enter Number : \"))\n",
    "\n",
    "Pattern(n)"
   ]
  },
  {
   "cell_type": "markdown",
   "metadata": {},
   "source": [
    "# 22) WAP to print following pattern\n",
    "\n",
    "<pre>$ $ $ $\n",
    "$ $ $\n",
    "$ $\n",
    "$</pre>\n"
   ]
  },
  {
   "cell_type": "code",
   "execution_count": 27,
   "metadata": {},
   "outputs": [
    {
     "name": "stdout",
     "output_type": "stream",
     "text": [
      "$ $ $ $ \n",
      "\n",
      "$ $ $ \n",
      "\n",
      "$ $ \n",
      "\n",
      "$ \n",
      "\n"
     ]
    }
   ],
   "source": [
    "def Pattern(n):\n",
    "    for i in range(1, n+1):\n",
    "        for j in range (i, n+1):\n",
    "            print (\"$\", end=\" \")\n",
    "        print(\"\\n\")\n",
    "\n",
    "n = int(input(\"Enter Number : \"))\n",
    "\n",
    "Pattern(n)"
   ]
  },
  {
   "cell_type": "markdown",
   "metadata": {},
   "source": [
    "# 23) WAP to print following pattern\n",
    "\n",
    "<pre>\n",
    "# # # # #\n",
    "  # # #\n",
    "    #\n",
    "  # # #\n",
    "# # # # #\n",
    "</pre>\n"
   ]
  },
  {
   "cell_type": "code",
   "execution_count": 4,
   "metadata": {},
   "outputs": [
    {
     "name": "stdout",
     "output_type": "stream",
     "text": [
      "# # # # # \n",
      "\n",
      "  # # # \n",
      "\n",
      "    # \n",
      "\n",
      "  # # # \n",
      "\n",
      "# # # # # \n",
      "\n"
     ]
    }
   ],
   "source": [
    "def Pattern(n):\n",
    "    temp = n\n",
    "\n",
    "    for i in range(int(n/2)+1):\n",
    "        for j in range(i):\n",
    "            print(\" \",end=\" \")\n",
    "        for k in range(n,0,-1):\n",
    "            print(\"#\",end=\" \")\n",
    "        n=n-2\n",
    "        print(\"\\n\")\n",
    "\n",
    "    a=3\n",
    "    for x in range(int(temp/2),0,-1):\n",
    "        for y in range(x-1):\n",
    "            print(\" \",end=\" \")\n",
    "        for z in range(a,0,-1):\n",
    "            print(\"#\",end=\" \")\n",
    "        a=a+2\n",
    "        print(\"\\n\")\n",
    "\n",
    "n = int(input(\"Enter number:\"))\n",
    "\n",
    "Pattern(n)"
   ]
  },
  {
   "cell_type": "markdown",
   "metadata": {},
   "source": [
    "# 24) WAP to print following pattern\n",
    "\n",
    "<pre>\n",
    "1\n",
    "2 3\n",
    "4 5 6\n",
    "7 8 9 10\n",
    "</pre>\n"
   ]
  },
  {
   "cell_type": "code",
   "execution_count": 28,
   "metadata": {},
   "outputs": [
    {
     "name": "stdout",
     "output_type": "stream",
     "text": [
      "1 \n",
      "\n",
      "2 3 \n",
      "\n",
      "4 5 6 \n",
      "\n",
      "7 8 9 10 \n",
      "\n"
     ]
    }
   ],
   "source": [
    "def Pattern(n):\n",
    "    k = 1\n",
    "\n",
    "    for i in range(1, n+1):\n",
    "        for j in range (1, i+1):\n",
    "            print (k, end=\" \")\n",
    "            k = k+1\n",
    "        print(\"\\n\")\n",
    "\n",
    "n = int(input(\"Enter Number : \"))\n",
    "\n",
    "Pattern(n)"
   ]
  }
 ],
 "metadata": {
  "kernelspec": {
   "display_name": "Python 3.10.5 64-bit",
   "language": "python",
   "name": "python3"
  },
  "language_info": {
   "codemirror_mode": {
    "name": "ipython",
    "version": 3
   },
   "file_extension": ".py",
   "mimetype": "text/x-python",
   "name": "python",
   "nbconvert_exporter": "python",
   "pygments_lexer": "ipython3",
   "version": "3.10.5"
  },
  "vscode": {
   "interpreter": {
    "hash": "f2ccb58c476f33ba3e3aee7ac07234ef6b8217ef24ad64d2a7d4fed1a57c1cd2"
   }
  }
 },
 "nbformat": 4,
 "nbformat_minor": 4
}
