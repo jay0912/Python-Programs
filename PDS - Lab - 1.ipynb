{
 "cells": [
  {
   "cell_type": "markdown",
   "metadata": {},
   "source": [
    "\n",
    "___\n",
    "\n",
    "<a href='https://www.darshan.ac.in/'> <img src='https://gtu.darshan.ac.in/Upload/Logo/DIET_Logo.svg' /></a>\n",
    "___\n",
    "<pre>\n",
    "<center><b>Python for Data Science - 3150713</b></center>\n",
    "<center><b>Lab - 1</b></center>    \n",
    "<pre>"
   ]
  },
  {
   "cell_type": "markdown",
   "metadata": {},
   "source": [
    "# 01) WAP to add two numbers entered by user"
   ]
  },
  {
   "cell_type": "code",
   "execution_count": 1,
   "metadata": {},
   "outputs": [
    {
     "name": "stdout",
     "output_type": "stream",
     "text": [
      "\n",
      "Addition of the  5  and  2  is :  7\n"
     ]
    }
   ],
   "source": [
    "n1 = int(input(\"Enter Number 1 : \"))\n",
    "n2 = int(input(\"Enter Number 2 : \"))\n",
    "\n",
    "print(\"\\nAddition of the \",n1,\" and \",n2,\" is : \",(n1+n2))"
   ]
  },
  {
   "cell_type": "markdown",
   "metadata": {},
   "source": [
    "# 02) WAP to calculate simple interest."
   ]
  },
  {
   "cell_type": "code",
   "execution_count": 2,
   "metadata": {},
   "outputs": [
    {
     "name": "stdout",
     "output_type": "stream",
     "text": [
      "\n",
      "Simple Intrest is :  10.0\n"
     ]
    }
   ],
   "source": [
    "p = int(input(\"Enter Principle : \"))\n",
    "r = int(input(\"Enter Rate of Intrest : \"))\n",
    "t = int(input(\"Enter Time : \"))\n",
    "\n",
    "print(\"\\nSimple Intrest is : \", ((p*r*t)/100))"
   ]
  },
  {
   "cell_type": "markdown",
   "metadata": {},
   "source": [
    "# 03) WAP to calculate area of circle."
   ]
  },
  {
   "cell_type": "code",
   "execution_count": 1,
   "metadata": {},
   "outputs": [
    {
     "name": "stdout",
     "output_type": "stream",
     "text": [
      "\n",
      "Area of the circle is : 78.54\n"
     ]
    }
   ],
   "source": [
    "import math\n",
    "\n",
    "r = float(input(\"Enter the radius of the circle : \"))\n",
    "\n",
    "area = math.pi * r * r\n",
    "\n",
    "print(\"\\nArea of the circle is : %.2f\" %area)"
   ]
  },
  {
   "cell_type": "markdown",
   "metadata": {},
   "source": [
    "# 04) WAP to print Multiplication table of given number without using loop."
   ]
  },
  {
   "cell_type": "code",
   "execution_count": 4,
   "metadata": {},
   "outputs": [
    {
     "name": "stdout",
     "output_type": "stream",
     "text": [
      "6  x  1  =  6\n",
      "6  x  2  =  12\n",
      "6  x  3  =  18\n",
      "6  x  4  =  24\n",
      "6  x  5  =  30\n",
      "6  x  6  =  36\n",
      "6  x  7  =  42\n",
      "6  x  8  =  48\n",
      "6  x  9  =  54\n",
      "6  x  10 =  60\n"
     ]
    }
   ],
   "source": [
    "n = int(input(\"Enter Number to print table : \"))\n",
    "\n",
    "print(n,\" x  1  = \",(n*1))\n",
    "print(n,\" x  2  = \",(n*2))\n",
    "print(n,\" x  3  = \",(n*3))\n",
    "print(n,\" x  4  = \",(n*4))\n",
    "print(n,\" x  5  = \",(n*5))\n",
    "print(n,\" x  6  = \",(n*6))\n",
    "print(n,\" x  7  = \",(n*7))\n",
    "print(n,\" x  8  = \",(n*8))\n",
    "print(n,\" x  9  = \",(n*9))\n",
    "print(n,\" x  10 = \",(n*10))\n",
    "\n"
   ]
  },
  {
   "cell_type": "markdown",
   "metadata": {},
   "source": [
    "# 05) WAP to check whether the given number is positive or negative."
   ]
  },
  {
   "cell_type": "code",
   "execution_count": 3,
   "metadata": {},
   "outputs": [
    {
     "name": "stdout",
     "output_type": "stream",
     "text": [
      "2  Is Positive Number.\n"
     ]
    }
   ],
   "source": [
    "n = int(input(\"Entr Number : \"))\n",
    "\n",
    "if n>0:\n",
    "    print(n,\" Is Positive Number.\")\n",
    "elif n<0:\n",
    "    print(n,\" Is Negative Number.\")\n",
    "else:\n",
    "    print(n,\" Is niether Positive nor Negative.\") "
   ]
  },
  {
   "cell_type": "markdown",
   "metadata": {},
   "source": [
    "# 06) WAP to find out largest number from given three numbers."
   ]
  },
  {
   "cell_type": "code",
   "execution_count": 4,
   "metadata": {},
   "outputs": [
    {
     "name": "stdout",
     "output_type": "stream",
     "text": [
      "\n",
      "Largest Number is :  25\n"
     ]
    }
   ],
   "source": [
    "n1 = int(input(\"Enter Number 1 : \"))\n",
    "n2 = int(input(\"Enter Number 2 : \"))\n",
    "n3 = int(input(\"Enter Number 3 : \"))\n",
    "\n",
    "max = (n1 if(n1>n2 and n1>n3) else\n",
    "      (n2 if(n2>n1 and n2>n3) else n3))\n",
    "\n",
    "print(\"\\nLargest Number is : \",max)"
   ]
  },
  {
   "cell_type": "markdown",
   "metadata": {},
   "source": [
    "# 07) WAP to implement simple calculator which performs (add,sub,mul,div) of two numbers based on user input."
   ]
  },
  {
   "cell_type": "code",
   "execution_count": 5,
   "metadata": {},
   "outputs": [
    {
     "name": "stdout",
     "output_type": "stream",
     "text": [
      "Addition is :  34\n"
     ]
    }
   ],
   "source": [
    "n1 = int(input(\"Enter Number 1 : \"))\n",
    "n2 = int(input(\"Enter Number 2 : \"))\n",
    "\n",
    "op = input(\"Enter Opration to be perform : \")\n",
    "\n",
    "if op == '+' :\n",
    "    ans = n1 + n2\n",
    "    print(\"Addition is : \",ans)\n",
    "elif op == '-' : \n",
    "    ans = n1 - n2\n",
    "    print(\"Substrction is : \",ans)\n",
    "elif op == '*' : \n",
    "    ans = n1 * n2\n",
    "    print(\"Multiplication is : \",ans)\n",
    "elif op == '/' : \n",
    "    ans = n1 / n2\n",
    "    print(\"Division is : \",ans)\n",
    "else : \n",
    "    print(\"Invaild Opration!\") \n",
    "    "
   ]
  },
  {
   "cell_type": "markdown",
   "metadata": {},
   "source": [
    "# 08) WAP to print 1 to n"
   ]
  },
  {
   "cell_type": "code",
   "execution_count": 9,
   "metadata": {},
   "outputs": [
    {
     "name": "stdout",
     "output_type": "stream",
     "text": [
      "Series up to n : \n",
      "1 2 3 4 5 6 7 8 9 10 11 12 13 14 15 16 17 18 19 20 "
     ]
    }
   ],
   "source": [
    "n = int(input(\"Enter Number : \"))\n",
    "\n",
    "print(\"Series up to n : \")\n",
    "for i in range(1, n+1):\n",
    "    print(i, end=\" \")"
   ]
  },
  {
   "cell_type": "markdown",
   "metadata": {},
   "source": [
    "# 09) WAP to print odd numbers between 1 to n"
   ]
  },
  {
   "cell_type": "code",
   "execution_count": 11,
   "metadata": {},
   "outputs": [
    {
     "name": "stdout",
     "output_type": "stream",
     "text": [
      "Series up to odd n : \n",
      "1 3 5 7 9 11 13 15 17 19 "
     ]
    }
   ],
   "source": [
    "n = int(input(\"Enter Number : \"))\n",
    "\n",
    "print(\"Series up to odd n : \")\n",
    "for i in range(1, n+1):\n",
    "    if i%2 != 0:\n",
    "        print(i, end=\" \")"
   ]
  },
  {
   "cell_type": "markdown",
   "metadata": {},
   "source": [
    "# 10) WAP to print sum of series 1–2+3–4+5–6+7...n"
   ]
  },
  {
   "cell_type": "code",
   "execution_count": 13,
   "metadata": {},
   "outputs": [
    {
     "name": "stdout",
     "output_type": "stream",
     "text": [
      "Sum of the Series :\n",
      "1 - 2 + 3 - 4 + 5 - 6 + 7 - 8 + 9 - 10  :  -5\n"
     ]
    }
   ],
   "source": [
    "n = int(input(\"Enter series limit : \"))\n",
    "\n",
    "odd = 0\n",
    "even = 0\n",
    "sum = 0\n",
    "\n",
    "for i in range(1, n+1):\n",
    "    if i%2 == 0:\n",
    "        even = even - i\n",
    "    else : \n",
    "        odd = odd + i    \n",
    "    \n",
    "sum = odd + even    \n",
    "\n",
    "print(\"Sum of the Series :\")\n",
    "for i in range (1, n+1):\n",
    "    if i==n :\n",
    "        print(i,\" : \",sum)\n",
    "    elif i%2 != 0 :\n",
    "        print(i,\"-\", end=\" \")    \n",
    "    else : \n",
    "        print(i,\"+\", end=\" \") "
   ]
  },
  {
   "cell_type": "markdown",
   "metadata": {},
   "source": [
    "# 11) WAP to print multiplication table of given number."
   ]
  },
  {
   "cell_type": "code",
   "execution_count": 14,
   "metadata": {},
   "outputs": [
    {
     "name": "stdout",
     "output_type": "stream",
     "text": [
      "4  x  1  =  4\n",
      "4  x  2  =  8\n",
      "4  x  3  =  12\n",
      "4  x  4  =  16\n",
      "4  x  5  =  20\n",
      "4  x  6  =  24\n",
      "4  x  7  =  28\n",
      "4  x  8  =  32\n",
      "4  x  9  =  36\n",
      "4  x  10  =  40\n"
     ]
    }
   ],
   "source": [
    "n = int(input(\"Enter number to print table : \"))\n",
    "\n",
    "for i in range (1, 11):\n",
    "    print(n,\" x \",i,\" = \",(n*i))"
   ]
  },
  {
   "cell_type": "markdown",
   "metadata": {},
   "source": [
    "# 12) WAP to find factorial of the given number."
   ]
  },
  {
   "cell_type": "code",
   "execution_count": 17,
   "metadata": {},
   "outputs": [
    {
     "name": "stdout",
     "output_type": "stream",
     "text": [
      "Factorial of the given  6  is =  720\n"
     ]
    }
   ],
   "source": [
    "n = int(input(\"Enter number to find factorial : \"))\n",
    "\n",
    "fact = 1\n",
    "\n",
    "for i in range(1, n+1):\n",
    "    fact = fact * i\n",
    "\n",
    "print(\"Factorial of the given \",n,\" is = \",fact) \n",
    "\n"
   ]
  },
  {
   "cell_type": "markdown",
   "metadata": {},
   "source": [
    "# 13) WAP to find factors of the given number."
   ]
  },
  {
   "cell_type": "code",
   "execution_count": 18,
   "metadata": {},
   "outputs": [
    {
     "name": "stdout",
     "output_type": "stream",
     "text": [
      "\n",
      "Factors of the  10  is : \n",
      "1 2 5 10 "
     ]
    }
   ],
   "source": [
    "n = int(input(\"Enter nummber to find factors :\"))\n",
    "\n",
    "print(\"\\nFactors of the \",n,\" is : \")\n",
    "\n",
    "for i in range (1, n+1):\n",
    "    if n%i == 0 :\n",
    "        print(i , end=\" \")"
   ]
  },
  {
   "cell_type": "markdown",
   "metadata": {},
   "source": [
    "# 14) WAP to find whether the given number is prime or not."
   ]
  },
  {
   "cell_type": "code",
   "execution_count": 19,
   "metadata": {},
   "outputs": [
    {
     "name": "stdout",
     "output_type": "stream",
     "text": [
      "7  is Prime Number.\n"
     ]
    }
   ],
   "source": [
    "n = int(input(\"Enter number to check prime : \"))\n",
    "\n",
    "flag = False\n",
    "\n",
    "for i in range (2, n):\n",
    "    if (n%i) == 0:\n",
    "        flag = True\n",
    "        break\n",
    "\n",
    "\n",
    "if flag :\n",
    "    print(n,\" is Not Prime Number.\")\n",
    "else :\n",
    "    print(n,\" is Prime Number.\")"
   ]
  },
  {
   "cell_type": "markdown",
   "metadata": {},
   "source": [
    "# 15) WAP to print sum of digits of given number."
   ]
  },
  {
   "cell_type": "code",
   "execution_count": 20,
   "metadata": {},
   "outputs": [
    {
     "name": "stdout",
     "output_type": "stream",
     "text": [
      "Sum of the given number is :  14\n"
     ]
    }
   ],
   "source": [
    "n = int(input(\"Enter Number :\"))\n",
    "\n",
    "sum = 0\n",
    "\n",
    "for i in range(1, n):\n",
    "    remainder = n % 10\n",
    "    sum = sum + remainder\n",
    "    n = n/10\n",
    "\n",
    "print(\"Sum of the given number is : \",int(sum)) "
   ]
  },
  {
   "cell_type": "markdown",
   "metadata": {},
   "source": [
    "# 16) WAP to find out prime numbers between given two numbers."
   ]
  },
  {
   "cell_type": "code",
   "execution_count": 21,
   "metadata": {},
   "outputs": [
    {
     "name": "stdout",
     "output_type": "stream",
     "text": [
      "3 5 7 11 13 17 19 "
     ]
    }
   ],
   "source": [
    "n1 = int(input(\"Enter number 1 : \"))\n",
    "n2 = int(input(\"Enter number 2 : \"))\n",
    "\n",
    "for i in range (n1, n2+1):\n",
    "    flag = True\n",
    "    for j in range (2, i):\n",
    "        if i%j == 0:\n",
    "            flag = False\n",
    "            break\n",
    "    if flag:\n",
    "        print(i, end=\" \")"
   ]
  },
  {
   "cell_type": "markdown",
   "metadata": {},
   "source": [
    "# 17) WAP to print Fibonacci series up to number given by user."
   ]
  },
  {
   "cell_type": "code",
   "execution_count": 1,
   "metadata": {},
   "outputs": [
    {
     "name": "stdout",
     "output_type": "stream",
     "text": [
      "Fibonacci series:\n",
      "1 1 2 3 5 "
     ]
    }
   ],
   "source": [
    "n = int(input(\"Enter number :\"))\n",
    "\n",
    "a=0\n",
    "b=1\n",
    "temp =0\n",
    "\n",
    "print(\"Fibonacci series:\")\n",
    "for i in range (1, n+1):\n",
    "    a=b\n",
    "    b=temp\n",
    "    temp = a+b\n",
    "    print(b, end=\" \")"
   ]
  },
  {
   "cell_type": "markdown",
   "metadata": {},
   "source": [
    "# 18) WAP to Find largest prime factor of given number."
   ]
  },
  {
   "cell_type": "code",
   "execution_count": 1,
   "metadata": {},
   "outputs": [
    {
     "name": "stdout",
     "output_type": "stream",
     "text": [
      "20\n",
      "10\n",
      "5\n",
      "5 is the largest prime factor.\n"
     ]
    }
   ],
   "source": [
    "n = int(input(\"Enter the number:\"))\n",
    "\n",
    "for i in range(n,0,-1): #this loop checks if the number is factor\n",
    "    flag=True\n",
    "    if n%i==0:\n",
    "        print(i)\n",
    "        for x in range(2,i): #this loop checks if the factor is prime\n",
    "            if i%x==0:\n",
    "                flag=False #'false' value indicates that the factor is not a prime number\n",
    "                break\n",
    "        if flag==True:\n",
    "            print(i,\"is the largest prime factor.\")\n",
    "            break "
   ]
  },
  {
   "cell_type": "markdown",
   "metadata": {},
   "source": [
    "# 19) WAP to print sum for cube of first n natural numbers."
   ]
  },
  {
   "cell_type": "code",
   "execution_count": 23,
   "metadata": {},
   "outputs": [
    {
     "name": "stdout",
     "output_type": "stream",
     "text": [
      "SUM of first n cub is :  225\n"
     ]
    }
   ],
   "source": [
    "n = int(input(\"Enter number print sum for cube of first n natural : \"))\n",
    "\n",
    "sum = 0\n",
    "\n",
    "for i in range(1, n+1):\n",
    "    sum = sum + i*i*i\n",
    "\n",
    "print(\"SUM of first n cub is : \",sum) "
   ]
  },
  {
   "cell_type": "markdown",
   "metadata": {},
   "source": [
    "# 20) WAP to converts the given decimal number to its binary equivalent.\n",
    "\n"
   ]
  },
  {
   "cell_type": "code",
   "execution_count": 2,
   "metadata": {},
   "outputs": [
    {
     "name": "stdout",
     "output_type": "stream",
     "text": [
      "Binary Conversion: 10100\n"
     ]
    }
   ],
   "source": [
    "n = int(input(\"Enter the number:\"))\n",
    "temp=\"\"\n",
    "\n",
    "while n>0:\n",
    "    temp=temp+str(n%2)\n",
    "    n=int(n/2)\n",
    "    \n",
    "temp = temp[::-1]\n",
    "print(\"Binary Conversion:\",temp)"
   ]
  },
  {
   "cell_type": "markdown",
   "metadata": {},
   "source": [
    "# 21) WAP to print following pattern\n",
    "\n",
    "<pre>\n",
    "*\n",
    "* *\n",
    "* * *\n",
    "* * * *\n",
    "</pre>\n"
   ]
  },
  {
   "cell_type": "code",
   "execution_count": 24,
   "metadata": {},
   "outputs": [
    {
     "name": "stdout",
     "output_type": "stream",
     "text": [
      "* \n",
      "\n",
      "* * \n",
      "\n",
      "* * * \n",
      "\n",
      "* * * * \n",
      "\n"
     ]
    }
   ],
   "source": [
    "n = int(input(\"Enter Number : \"))\n",
    "\n",
    "for i in range(1, n+1):\n",
    "    for j in range (1, i+1):\n",
    "        print (\"*\", end=\" \")\n",
    "    print(\"\\n\")"
   ]
  },
  {
   "cell_type": "markdown",
   "metadata": {},
   "source": [
    "# 22) WAP to print following pattern\n",
    "\n",
    "<pre>$ $ $ $\n",
    "$ $ $\n",
    "$ $\n",
    "$</pre>\n"
   ]
  },
  {
   "cell_type": "code",
   "execution_count": 25,
   "metadata": {},
   "outputs": [
    {
     "name": "stdout",
     "output_type": "stream",
     "text": [
      "$ $ $ $ \n",
      "\n",
      "$ $ $ \n",
      "\n",
      "$ $ \n",
      "\n",
      "$ \n",
      "\n"
     ]
    }
   ],
   "source": [
    "n = int(input(\"Enter Number : \"))\n",
    "\n",
    "for i in range(1, n+1):\n",
    "    for j in range (i, n+1):\n",
    "        print (\"$\", end=\" \")\n",
    "    print(\"\\n\")"
   ]
  },
  {
   "cell_type": "markdown",
   "metadata": {},
   "source": [
    "# 23) WAP to print following pattern\n",
    "\n",
    "<pre>\n",
    "# # # # #\n",
    "  # # #\n",
    "    #\n",
    "  # # #\n",
    "# # # # #\n",
    "</pre>\n"
   ]
  },
  {
   "cell_type": "code",
   "execution_count": 3,
   "metadata": {},
   "outputs": [
    {
     "name": "stdout",
     "output_type": "stream",
     "text": [
      "# # # # # \n",
      "\n",
      "  # # # \n",
      "\n",
      "    # \n",
      "\n",
      "  # # # \n",
      "\n",
      "# # # # # \n",
      "\n"
     ]
    }
   ],
   "source": [
    "n = int(input(\"Enter number:\"))\n",
    "temp = n\n",
    "\n",
    "for i in range(int(n/2)+1):\n",
    "    for j in range(i):\n",
    "        print(\" \",end=\" \")\n",
    "    for k in range(n,0,-1):\n",
    "        print(\"#\",end=\" \")\n",
    "    n=n-2\n",
    "    print(\"\\n\")\n",
    "\n",
    "a=3\n",
    "for x in range(int(temp/2),0,-1):\n",
    "    for y in range(x-1):\n",
    "        print(\" \",end=\" \")\n",
    "    for z in range(a,0,-1):\n",
    "        print(\"#\",end=\" \")\n",
    "    a=a+2\n",
    "    print(\"\\n\")"
   ]
  },
  {
   "cell_type": "markdown",
   "metadata": {},
   "source": [
    "# 24) WAP to print following pattern\n",
    "\n",
    "<pre>\n",
    "1\n",
    "2 3\n",
    "4 5 6\n",
    "7 8 9 10\n",
    "</pre>\n"
   ]
  },
  {
   "cell_type": "code",
   "execution_count": 26,
   "metadata": {},
   "outputs": [
    {
     "name": "stdout",
     "output_type": "stream",
     "text": [
      "1 \n",
      "\n",
      "2 3 \n",
      "\n",
      "4 5 6 \n",
      "\n",
      "7 8 9 10 \n",
      "\n"
     ]
    }
   ],
   "source": [
    "k = 1\n",
    "\n",
    "n = int(input(\"Enter Number : \"))\n",
    "\n",
    "for i in range(1, n+1):\n",
    "    for j in range (1, i+1):\n",
    "        print (k, end=\" \")\n",
    "        k = k+1\n",
    "    print(\"\\n\")"
   ]
  }
 ],
 "metadata": {
  "kernelspec": {
   "display_name": "Python 3.10.5 64-bit",
   "language": "python",
   "name": "python3"
  },
  "language_info": {
   "codemirror_mode": {
    "name": "ipython",
    "version": 3
   },
   "file_extension": ".py",
   "mimetype": "text/x-python",
   "name": "python",
   "nbconvert_exporter": "python",
   "pygments_lexer": "ipython3",
   "version": "3.10.5"
  },
  "vscode": {
   "interpreter": {
    "hash": "f2ccb58c476f33ba3e3aee7ac07234ef6b8217ef24ad64d2a7d4fed1a57c1cd2"
   }
  }
 },
 "nbformat": 4,
 "nbformat_minor": 4
}
