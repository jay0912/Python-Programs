{
 "cells": [
  {
   "cell_type": "code",
   "execution_count": 4,
   "id": "e4eddb2e",
   "metadata": {},
   "outputs": [],
   "source": [
    "import requests\n",
    "import bs4"
   ]
  },
  {
   "cell_type": "code",
   "execution_count": 12,
   "id": "f35635bc",
   "metadata": {},
   "outputs": [
    {
     "name": "stdout",
     "output_type": "stream",
     "text": [
      " DIET\n",
      " Gujarat\n"
     ]
    }
   ],
   "source": [
    "data = requests.get(\"http://localhost/demo/demo.html\")\n",
    "\n",
    "soap = bs4.BeautifulSoup(data.text,'lxml')\n",
    "allH1s = soap.select(\"h2\")\n",
    "\n",
    "for h1 in allH1s:\n",
    "    print(h1.text)\n"
   ]
  },
  {
   "cell_type": "code",
   "execution_count": 36,
   "id": "e10d8da6",
   "metadata": {},
   "outputs": [
    {
     "name": "stdout",
     "output_type": "stream",
     "text": [
      "Dr. Gopi Sanghani\n",
      "Dr. Nilesh Gambhava\n",
      "Dr. Pradyumansinh Jadeja\n",
      "Prof. Maulik Trivedi\n",
      "Prof. Dixita Kagathara\n",
      "Prof. Rupesh Vaishnav\n",
      "Prof. Swati Sharma\n",
      "Prof. Arjun Bala\n",
      "Prof. Mayur Padia\n",
      "Prof. Vijay Shekhat\n",
      "Prof. Naimish Vadodariya\n",
      "Prof. UmeshKumar Thoriya\n",
      "Prof. Jayesh Vagadiya\n",
      "Prof. Krunal Vyas\n",
      "Prof. Jay Dhamsaniya\n",
      "Prof. Mehul Bhundiya\n",
      "Prof. Vaseem Ghada\n",
      "Prof. Hemang Chath\n",
      "Prof. Charvin Kothia\n",
      "Prof. Madhuresh Fichadiya\n",
      "Prof. Vishal Kansagara\n",
      "Prof. Dharmik Vasiyani\n",
      "Prof. Shruti Maniar\n",
      "Prof. Bhushan Joshi\n",
      "Prof. Ekta Gevariya\n",
      "Prof. Dolly Doshi\n"
     ]
    }
   ],
   "source": [
    "data = requests.get(\"https://www.darshan.ac.in/engineering/computer/faculty\")\n",
    "soap = bs4.BeautifulSoup(data.text,'lxml')\n",
    "allfaculty = soap.select(\"body > main > div:nth-child(5) > div > div > div.col-lg-8.col-xl-9.g-font-size-14 > div > div\")\n",
    "\n",
    "for f in allfaculty:\n",
    "    name = f.select(\"h2\")[0].text.strip()\n",
    "    print(name)"
   ]
  },
  {
   "cell_type": "code",
   "execution_count": null,
   "id": "523c18a2",
   "metadata": {},
   "outputs": [],
   "source": []
  }
 ],
 "metadata": {
  "kernelspec": {
   "display_name": "Python 3 (ipykernel)",
   "language": "python",
   "name": "python3"
  },
  "language_info": {
   "codemirror_mode": {
    "name": "ipython",
    "version": 3
   },
   "file_extension": ".py",
   "mimetype": "text/x-python",
   "name": "python",
   "nbconvert_exporter": "python",
   "pygments_lexer": "ipython3",
   "version": "3.9.7"
  }
 },
 "nbformat": 4,
 "nbformat_minor": 5
}
