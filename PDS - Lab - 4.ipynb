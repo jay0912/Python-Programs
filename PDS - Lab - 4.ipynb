{
 "cells": [
  {
   "cell_type": "markdown",
   "metadata": {
    "id": "5IxH57pmG-GY"
   },
   "source": [
    "\n",
    "___\n",
    "\n",
    "<a href='https://www.darshan.ac.in/'> <img src='https://gtu.darshan.ac.in/Upload/Logo/DIET_Logo.svg' /></a>\n",
    "___\n",
    "<pre>\n",
    "<center><b>Python for Data Science - 3150713</b></center>\n",
    "<center><b>Lab - 4</b></center>    \n",
    "<pre>"
   ]
  },
  {
   "cell_type": "markdown",
   "metadata": {
    "id": "_FHUM-CHG-Gd"
   },
   "source": [
    "# 01) WAP to find sum of all the elements in List."
   ]
  },
  {
   "cell_type": "code",
   "execution_count": 3,
   "metadata": {
    "id": "ybLtCnveG-Ge",
    "outputId": "092082a0-6010-4ee1-fd15-376801468c73"
   },
   "outputs": [
    {
     "name": "stdout",
     "output_type": "stream",
     "text": [
      "Sum of the list  [5, 4, 3, 2, 1]  :  10\n"
     ]
    }
   ],
   "source": [
    "list=[]\n",
    "sum = 0\n",
    "\n",
    "n = int(input(\"Enter the number of elements : \"))\n",
    "\n",
    "for i in range(0, n):\n",
    "    e = int(input())\n",
    "\n",
    "    list.append(e)\n",
    "\n",
    "for i in range (0, len(list)):\n",
    "    sum = sum + i\n",
    "\n",
    "print(\"Sum of the list \",list, \" : \",sum)\n"
   ]
  },
  {
   "cell_type": "markdown",
   "metadata": {
    "id": "6-sXb9PSG-Gh"
   },
   "source": [
    "# 02) WAP to find largest element in a List."
   ]
  },
  {
   "cell_type": "code",
   "execution_count": 7,
   "metadata": {
    "id": "oTUGWtFZG-Gi",
    "outputId": "bbba26cc-04aa-40ad-c902-f976ee34d20a"
   },
   "outputs": [
    {
     "name": "stdout",
     "output_type": "stream",
     "text": [
      "Largest element in List  [7, 9, 11, 25, 4]  :  25\n"
     ]
    }
   ],
   "source": [
    "list=[]\n",
    "\n",
    "n = int(input(\"Enter the number of elements : \"))\n",
    "\n",
    "for i in range(0, n):\n",
    "    e = int(input())\n",
    "\n",
    "    list.append(e)\n",
    "\n",
    "print(\"Largest element in List \",list,\" : \",max(list))"
   ]
  },
  {
   "cell_type": "markdown",
   "metadata": {
    "id": "1J0WHwUNG-Gj"
   },
   "source": [
    "# 03) WAP to split the List into two and append the first part to the end."
   ]
  },
  {
   "cell_type": "code",
   "execution_count": null,
   "metadata": {
    "id": "hXcf57rdG-Gk",
    "outputId": "fec29838-ef07-4033-92ad-49786f3c7efb"
   },
   "outputs": [],
   "source": [
    "list=[]\n",
    "\n",
    "n = int(input(\"Enter the number of elements : \"))\n",
    "\n",
    "for i in range(0, n):\n",
    "    e = int(input())\n",
    "\n",
    "    list.append(e)\n",
    "\n",
    "l = int(input(\"Enter the Position where you want to split :\"))"
   ]
  },
  {
   "cell_type": "markdown",
   "metadata": {
    "id": "q9WGqT_bG-Gl"
   },
   "source": [
    "# 04) WAP to interchange first and last element in list entered by a user."
   ]
  },
  {
   "cell_type": "code",
   "execution_count": 9,
   "metadata": {
    "id": "dPvM9W0dG-Gm",
    "outputId": "41637451-4895-4166-864e-0792ba7a356d"
   },
   "outputs": [
    {
     "name": "stdout",
     "output_type": "stream",
     "text": [
      "[5, 2, 3, 4, 1]\n"
     ]
    }
   ],
   "source": [
    "list=[]\n",
    "temp = 0\n",
    "\n",
    "n = int(input(\"Enter the number of elements : \"))\n",
    "\n",
    "for i in range(0, n):\n",
    "    e = int(input())\n",
    "\n",
    "    list.append(e)\n",
    "\n",
    "temp = list[0]\n",
    "list[0] = list[n-1]\n",
    "list[n-1] = temp\n",
    "\n",
    "print(list)"
   ]
  },
  {
   "cell_type": "markdown",
   "metadata": {
    "id": "vfr11EOSG-Gn"
   },
   "source": [
    "# 05) WAP to interchange the elements on two positions entered by a user."
   ]
  },
  {
   "cell_type": "code",
   "execution_count": 3,
   "metadata": {
    "id": "9AXXFjmXG-Go",
    "outputId": "2c0f53db-7071-41d3-bc03-af215bae7e21"
   },
   "outputs": [
    {
     "name": "stdout",
     "output_type": "stream",
     "text": [
      "[1, 2, 4, 3, 5]\n"
     ]
    }
   ],
   "source": [
    "list=[]\n",
    "temp = 0\n",
    "\n",
    "n = int(input(\"Enter the number of elements : \"))\n",
    "\n",
    "for i in range(0, n):\n",
    "    e = int(input())\n",
    "\n",
    "    list.append(e)\n",
    "\n",
    "p1 = int(input(\"Enter 1st Position : \"))\n",
    "p2 = int(input(\"Enter 2nd Position : \"))    \n",
    "\n",
    "temp = list[p1]\n",
    "list[p1] = list[p2]\n",
    "list[p2] = temp\n",
    "\n",
    "print(list)"
   ]
  },
  {
   "cell_type": "markdown",
   "metadata": {
    "id": "VABvkcqXG-Gp"
   },
   "source": [
    "# 06) WAP to remove Nth occurrence of the given word in the list entered by user."
   ]
  },
  {
   "cell_type": "code",
   "execution_count": 6,
   "metadata": {
    "id": "e5YWmQ8RG-Gq",
    "outputId": "4d43d37c-a263-49c0-d713-eabe7029aceb"
   },
   "outputs": [
    {
     "name": "stdout",
     "output_type": "stream",
     "text": [
      "User List :  ['a', 'b', 'c', 'd', 'e']\n",
      "Updated List  :  ['a', 'b', 'c', 'e']\n"
     ]
    }
   ],
   "source": [
    "list=[]\n",
    "\n",
    "n = int(input(\"Enter the number of elements : \"))\n",
    "\n",
    "for i in range(0, n):\n",
    "    e = input()\n",
    "\n",
    "    list.append(e)   \n",
    "print(\"User List : \",list)    \n",
    "\n",
    "x = input(\"Enter word to check : \")\n",
    "\n",
    "for i in range (0, len(list)):\n",
    "    if x in list:\n",
    "        list.remove(x)\n",
    "\n",
    "print(\"Updated List  : \",list)"
   ]
  },
  {
   "cell_type": "markdown",
   "metadata": {
    "id": "Y7RN-OcVG-Gr"
   },
   "source": [
    "# 07) WAP to check whether given element exits in list or not."
   ]
  },
  {
   "cell_type": "code",
   "execution_count": 7,
   "metadata": {
    "id": "hxzXNra_G-Gs",
    "outputId": "f17bd96d-32af-4d8f-bf58-fadadcab1110"
   },
   "outputs": [
    {
     "name": "stdout",
     "output_type": "stream",
     "text": [
      "44 Element is exits in the list\n"
     ]
    }
   ],
   "source": [
    "list=[]\n",
    "\n",
    "n = int(input(\"Enter the number of elements : \"))\n",
    "\n",
    "for i in range(0, n):\n",
    "    e = input()\n",
    "\n",
    "    list.append(e)\n",
    "\n",
    "x = input(\"Enter word to check : \")\n",
    "\n",
    "flag = False\n",
    "for i in range (0, len(list)):\n",
    "    if x in list:\n",
    "        flag = True\n",
    "        break\n",
    "\n",
    "if flag:\n",
    "    print(x,\"Element is exits in the list\")\n",
    "else :\n",
    "    print(x,\"Element is not exits in the list\")       \n",
    "        "
   ]
  },
  {
   "cell_type": "markdown",
   "metadata": {
    "id": "ykN1fAPrG-Gt"
   },
   "source": [
    "# 08) WAP to reverser the list entered by user."
   ]
  },
  {
   "cell_type": "code",
   "execution_count": 9,
   "metadata": {
    "id": "GRPbL1LWG-Gu",
    "outputId": "370fee2d-7e89-441a-99ab-19f37e4414e7"
   },
   "outputs": [
    {
     "name": "stdout",
     "output_type": "stream",
     "text": [
      "Old List :  ['1', '2', '3', '4', '5']\n",
      "Updated List :  ['5', '4', '3', '2', '1']\n"
     ]
    }
   ],
   "source": [
    "list=[]\n",
    "\n",
    "n = int(input(\"Enter the number of elements : \"))\n",
    "\n",
    "for i in range(0, n):\n",
    "    e = input()\n",
    "\n",
    "    list.append(e)\n",
    "\n",
    "print(\"Old List : \",list)\n",
    "list = list[::-1]\n",
    "print(\"Updated List : \",list)\n",
    "\n"
   ]
  },
  {
   "cell_type": "markdown",
   "metadata": {
    "id": "3QDjgOCTG-Gw"
   },
   "source": [
    "# 09) WAP to print all positive number in list entered by user."
   ]
  },
  {
   "cell_type": "code",
   "execution_count": 2,
   "metadata": {
    "id": "g06Bs0oEG-Gw",
    "outputId": "a9d8bdd0-7035-4155-acae-7e275c71a36b"
   },
   "outputs": [
    {
     "name": "stdout",
     "output_type": "stream",
     "text": [
      "List :  [1, -2, -3, 4, 5]\n",
      "1,4,5,"
     ]
    }
   ],
   "source": [
    "list=[]\n",
    "temp = []\n",
    "\n",
    "n = int(input(\"Enter the number of elements : \"))\n",
    "\n",
    "for i in range(0, n):\n",
    "    e = int(input())\n",
    "\n",
    "    list.append(e)\n",
    "\n",
    "print(\"List : \",list)\n",
    "\n",
    "for j in list: \n",
    "    if j >= 0 :\n",
    "        print(j, end = \",\")"
   ]
  },
  {
   "cell_type": "markdown",
   "metadata": {
    "id": "C0DzX7IYG-Gx"
   },
   "source": [
    "# 10) WAP to check if given array is monotonic or not."
   ]
  },
  {
   "cell_type": "code",
   "execution_count": 1,
   "metadata": {
    "id": "2UHVeuNTG-Gy"
   },
   "outputs": [
    {
     "name": "stdout",
     "output_type": "stream",
     "text": [
      "Array :  [1, 5, 2, 3, 4]  is Monotonic.\n"
     ]
    }
   ],
   "source": [
    "a = []\n",
    "\n",
    "n = int(input(\"Enter the number of elements : \"))\n",
    "\n",
    "for i in range(0, n):\n",
    "    e = int(input())\n",
    "\n",
    "    a.append(e)\n",
    "\n",
    "flag = False\n",
    "for i in range(0, n-1):\n",
    "    if a[i]>=a[i+1] or a[i]<=a[i+1]:\n",
    "        flag = True\n",
    "    else :\n",
    "        flag = False\n",
    "        break\n",
    "\n",
    "if flag:\n",
    "    print(\"Array : \",a,\" is Monotonic.\")\n",
    "else :\n",
    "    print(\"Array : \",a,\" is not Monotonic.\")"
   ]
  },
  {
   "cell_type": "markdown",
   "metadata": {
    "id": "TXeCXfFZG-Gz"
   },
   "source": [
    "# 11) WAP which takes 2 digits, X,Y as input and generates a 2-dimensional array of size X * Y. The element value in the i-th row and j-th column of the array should be i*j. Note: i=0,1.., X-1; j=0,1,¡­Y-1."
   ]
  },
  {
   "cell_type": "code",
   "execution_count": 13,
   "metadata": {
    "id": "iA10lUgVG-G0"
   },
   "outputs": [
    {
     "name": "stdout",
     "output_type": "stream",
     "text": [
      "Enter entries rowise : \n",
      "\n",
      "2  x  3  Matrix : \n",
      "1 4 2 \n",
      "5 3 6 \n"
     ]
    }
   ],
   "source": [
    "Matrix = []\n",
    "\n",
    "x = int(input(\"Enter the number of rows : \"))\n",
    "y = int(input(\"Enter the number of columns : \"))\n",
    "\n",
    "#Enter entries rowise :\n",
    "for i in range(0, x):\n",
    "    a = []\n",
    "    for j in range (0, y):\n",
    "        a.append(int(input()))#take input as column wise\n",
    "    Matrix.append(a) # append in row  \n",
    "\n",
    "print()\n",
    "print(x,\" x \",y,\" Matrix : \")\n",
    "for i in range(0, x):\n",
    "    for j in range (0, y):\n",
    "        print(Matrix[i][j], end=\" \")      \n",
    "    print()\n"
   ]
  },
  {
   "cell_type": "markdown",
   "metadata": {
    "id": "nCHxeKKfG-G1"
   },
   "source": [
    "# 12) WAP to find median of array."
   ]
  },
  {
   "cell_type": "code",
   "execution_count": 6,
   "metadata": {
    "id": "vicmGyv5G-G2"
   },
   "outputs": [
    {
     "name": "stdout",
     "output_type": "stream",
     "text": [
      "Array :  [1, 2, 3, 4, 5]\n",
      "Median of an Array is :  3\n"
     ]
    }
   ],
   "source": [
    "a = []\n",
    "\n",
    "n = int(input(\"Enter the number of elements : \"))\n",
    "\n",
    "for i in range(0, n):\n",
    "    e = int(input())\n",
    "    a.append(e)\n",
    "\n",
    "print(\"Array : \",a)\n",
    "\n",
    "def median(l):\n",
    "    half = len(l) // 2\n",
    "    l.sort()\n",
    "    if not len(l) % 2:\n",
    "        return (l[half - 1] + l[half]) / 2.0\n",
    "    return l[half]\n",
    "\n",
    "print(\"Median of an Array is : \",median(a))\n",
    "\n"
   ]
  },
  {
   "cell_type": "markdown",
   "metadata": {
    "id": "7M6h6L6pG-G3"
   },
   "source": [
    "# 13) Write a program that interchanges the odd and even elements of an array."
   ]
  },
  {
   "cell_type": "code",
   "execution_count": 12,
   "metadata": {
    "id": "nqLeumgaG-G3"
   },
   "outputs": [
    {
     "name": "stdout",
     "output_type": "stream",
     "text": [
      "Original List is: [1, 2, 3, 4, 5, 6, 7, 8, 9, 0]\n",
      "List after swapping : [2, 1, 4, 3, 6, 5, 8, 7, 0, 9]\n"
     ]
    }
   ],
   "source": [
    "\n",
    "arr = eval(input(\"Enter a list \"))#give input as list\n",
    "\n",
    "print(\"Original List is:\",arr)\n",
    "\n",
    "s = len(arr)\n",
    "\n",
    "if s%2!=0:\n",
    "    s=s-1\n",
    "\n",
    "for i in range(0,s,2):\n",
    "    arr[i],arr[i+1] = arr[i+1],arr[i]\n",
    "\n",
    "print(\"List after swapping :\",arr)"
   ]
  },
  {
   "cell_type": "markdown",
   "metadata": {
    "id": "wcb7jun0G-G4"
   },
   "source": [
    "# 14) WAP to find given number in the list and print the position of number using sequential search."
   ]
  },
  {
   "cell_type": "code",
   "execution_count": 19,
   "metadata": {
    "id": "KMemq0TQG-G4"
   },
   "outputs": [
    {
     "name": "stdout",
     "output_type": "stream",
     "text": [
      "Element  2  Founded in the index :  1\n"
     ]
    }
   ],
   "source": [
    "a = []\n",
    "\n",
    "n = int(input(\"Enter the number of elements : \"))\n",
    "\n",
    "for i in range(0, n):\n",
    "    e = int(input())\n",
    "\n",
    "    a.append(e)\n",
    "\n",
    "x = int(input(\"Enter number to check in list : \"))\n",
    "\n",
    "for i in range(0,n):\n",
    "    if x == a[i]:\n",
    "        print(\"Element \",x,\" Founded in the index : \",i)\n",
    "        break\n",
    "\n"
   ]
  },
  {
   "cell_type": "markdown",
   "metadata": {
    "id": "UcuL0Y0OG-G5"
   },
   "source": [
    "# 15) WAP to multiply two 3*3 matrix."
   ]
  },
  {
   "cell_type": "code",
   "execution_count": 21,
   "metadata": {
    "id": "cuTT48YYG-G5"
   },
   "outputs": [
    {
     "name": "stdout",
     "output_type": "stream",
     "text": [
      "\n",
      "3 x 3 Matrix : \n",
      "1 2 3 \n",
      "4 5 6 \n",
      "7 8 9 \n"
     ]
    }
   ],
   "source": [
    "Matrix = []\n",
    "\n",
    "#Enter entries rowise :\n",
    "for i in range(0, 3):\n",
    "    a = []\n",
    "    for j in range (0, 3):\n",
    "        a.append(int(input()))#take input as column wise\n",
    "    Matrix.append(a) # append in row  \n",
    "\n",
    "print()\n",
    "print(\"3 x 3 Matrix : \")\n",
    "for i in range(0, 3):\n",
    "    for j in range (0, 3):\n",
    "        print(Matrix[i][j], end=\" \")      \n",
    "    print()"
   ]
  },
  {
   "cell_type": "markdown",
   "metadata": {
    "id": "rs7xIVBNG-G6"
   },
   "source": [
    "# 16) Write one line of Python code that returns list of even elements of the given list."
   ]
  },
  {
   "cell_type": "code",
   "execution_count": 8,
   "metadata": {
    "id": "RV1TlJwYG-G7"
   },
   "outputs": [
    {
     "name": "stdout",
     "output_type": "stream",
     "text": [
      "Even numbers :  [2, 4, 6]\n"
     ]
    }
   ],
   "source": [
    "list = []\n",
    "\n",
    "n = int(input(\"Enter the number of elements : \"))\n",
    "\n",
    "for i in range(0, n):\n",
    "    e = int(input())\n",
    "    list.append(e)\n",
    "\n",
    "#one line logic\n",
    "even = [num for num in list if num % 2 == 0]\n",
    "\n",
    "print(\"Even numbers : \", even)"
   ]
  },
  {
   "cell_type": "markdown",
   "metadata": {
    "id": "KkRJWytRG-G9"
   },
   "source": [
    "# 17) WAP to find tuples which have all elements divisible by K from a list of tuples."
   ]
  },
  {
   "cell_type": "code",
   "execution_count": 9,
   "metadata": {
    "id": "zxa_T61kG-G_"
   },
   "outputs": [
    {
     "name": "stdout",
     "output_type": "stream",
     "text": [
      "The value of K has been initialized to :  9\n",
      "Elements divisible by K are : [(9, 18, 27)]\n"
     ]
    }
   ],
   "source": [
    "list = [(4,8,12), (5,10,25), (9,18,27)]\n",
    "\n",
    "k = int(input(\"Enter  K : \"))\n",
    "\n",
    "print(\"The value of K has been initialized to : \",k)\n",
    "\n",
    "ans = [i for i in list if all(tupple % k == 0 for tupple in i)]\n",
    "\n",
    "print(\"Elements divisible by K are : \" + str(ans))"
   ]
  },
  {
   "cell_type": "markdown",
   "metadata": {
    "id": "w9-ZoaSPG-HA"
   },
   "source": [
    "# 18) WAP to covert tuple into list by adding the given string after every element."
   ]
  },
  {
   "cell_type": "code",
   "execution_count": 28,
   "metadata": {
    "id": "kp_ewiUoG-HB"
   },
   "outputs": [
    {
     "name": "stdout",
     "output_type": "stream",
     "text": [
      "[1, 2, 3, 4, 5, 6]\n"
     ]
    }
   ],
   "source": [
    "tup = [(1, 2), (3, 4), (5, 6)]\n",
    " \n",
    "result = []\n",
    "  \n",
    "for t in tup:\n",
    "    for x in t:\n",
    "        result.append(x)\n",
    "  \n",
    "print(result)"
   ]
  },
  {
   "cell_type": "markdown",
   "metadata": {
    "id": "Kb0K15vDG-HB"
   },
   "source": [
    "# 19) WAP to sort python dictionary by key or value."
   ]
  },
  {
   "cell_type": "code",
   "execution_count": 2,
   "metadata": {
    "id": "mPQhWcuvG-HC"
   },
   "outputs": [
    {
     "name": "stdout",
     "output_type": "stream",
     "text": [
      "[1, 2, 3, 5, 7]\n",
      "[(1, 2), (2, 9), (3, 8), (5, 7), (7, 5)]\n"
     ]
    }
   ],
   "source": [
    "dict = { 1:2, 3:8, 7:5, 2:9, 5:7 }\n",
    "\n",
    "print(sorted(dict.keys()))\n",
    "print(sorted(dict.items()))\n"
   ]
  },
  {
   "cell_type": "markdown",
   "metadata": {
    "id": "QQgUF-1iG-HD"
   },
   "source": [
    "# 20) WAP to merge two dictionaries given by user."
   ]
  },
  {
   "cell_type": "code",
   "execution_count": 38,
   "metadata": {
    "id": "6suV-zTuG-HD"
   },
   "outputs": [
    {
     "name": "stdout",
     "output_type": "stream",
     "text": [
      "{'Jay': '20', 'Foram': '20', 'Hardik': '21'}\n",
      "{'Janvi': '19', 'Pxa': '20', 'Kp': '21'}\n",
      "Updated Dict :  {'Jay': '20', 'Foram': '20', 'Hardik': '21', 'Janvi': '19', 'Pxa': '20', 'Kp': '21'}\n"
     ]
    }
   ],
   "source": [
    "n = int(input(\"Size of the dict : \"))\n",
    "\n",
    "dict1 ={}                     \n",
    "for i in range(n):        \n",
    "    text = input().split()     \n",
    "    dict1[text[0]] = text[1]    \n",
    "print(dict1)\n",
    "\n",
    "dict2 ={}                     \n",
    "for i in range(n):        \n",
    "    text = input().split()     \n",
    "    dict2[text[0]] = text[1]    \n",
    "print(dict2)\n",
    "# dict2=dict(input().split() for x in range(n))\n",
    "# print(dict2)\n",
    "\n",
    "dict1.update(dict2)\n",
    "\n",
    "print(\"Updated Dict : \",dict1)"
   ]
  },
  {
   "cell_type": "markdown",
   "metadata": {
    "id": "QQgUF-1iG-HD"
   },
   "source": [
    "# 21) WAP to merge two sets given by user."
   ]
  },
  {
   "cell_type": "code",
   "execution_count": 43,
   "metadata": {
    "id": "6suV-zTuG-HD"
   },
   "outputs": [
    {
     "name": "stdout",
     "output_type": "stream",
     "text": [
      "Set 1 :  {'3', '2', '4', '1', '5'}\n",
      "Set 2 :  {'8', '7', '0', '9', '6'}\n",
      "Updates SET : {'8', '6', '7', '0', '3', '9', '2', '4', '1', '5'}\n"
     ]
    }
   ],
   "source": [
    "set1 = set(input(\"Enter string to convert in set :\"))\n",
    "print(\"Set 1 : \",set1)\n",
    "set2 = set(input(\"Enter string to convert in set :\"))\n",
    "print(\"Set 2 : \",set2)\n",
    "\n",
    "set1.update(set2)\n",
    "\n",
    "print(\"Updates SET :\",set1)"
   ]
  },
  {
   "cell_type": "markdown",
   "metadata": {
    "id": "QQgUF-1iG-HD"
   },
   "source": [
    "# 22) WAP to find intersection of two sets given by user. "
   ]
  },
  {
   "cell_type": "code",
   "execution_count": 44,
   "metadata": {
    "id": "6suV-zTuG-HD"
   },
   "outputs": [
    {
     "name": "stdout",
     "output_type": "stream",
     "text": [
      "Set 1 :  {'3', '2', '4', '1', '5'}\n",
      "Set 2 :  {'8', '7', '9', '6', '5'}\n",
      "Updates SET : {'5'}\n"
     ]
    }
   ],
   "source": [
    "set1 = set(input(\"Enter string to convert in set :\"))\n",
    "print(\"Set 1 : \",set1)\n",
    "set2 = set(input(\"Enter string to convert in set :\"))\n",
    "print(\"Set 2 : \",set2)\n",
    "\n",
    "print(\"Updates SET :\",(set1&set2))"
   ]
  }
 ],
 "metadata": {
  "colab": {
   "name": "Python (Lab - 03) (List) - Payal Parmar.ipynb",
   "provenance": []
  },
  "kernelspec": {
   "display_name": "Python 3.10.5 64-bit",
   "language": "python",
   "name": "python3"
  },
  "language_info": {
   "codemirror_mode": {
    "name": "ipython",
    "version": 3
   },
   "file_extension": ".py",
   "mimetype": "text/x-python",
   "name": "python",
   "nbconvert_exporter": "python",
   "pygments_lexer": "ipython3",
   "version": "3.10.5"
  },
  "vscode": {
   "interpreter": {
    "hash": "f2ccb58c476f33ba3e3aee7ac07234ef6b8217ef24ad64d2a7d4fed1a57c1cd2"
   }
  }
 },
 "nbformat": 4,
 "nbformat_minor": 1
}
