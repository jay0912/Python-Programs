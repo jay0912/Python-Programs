{
 "cells": [
  {
   "cell_type": "markdown",
   "metadata": {
    "id": "5IxH57pmG-GY"
   },
   "source": [
    "\n",
    "___\n",
    "\n",
    "<a href='https://www.darshan.ac.in/'> <img src='https://gtu.darshan.ac.in/Upload/Logo/DIET_Logo.svg' /></a>\n",
    "___\n",
    "<pre>\n",
    "<center><b>Python for Data Science - 3150713</b></center>\n",
    "<center><b>Lab - 6</b></center>    \n",
    "<pre>"
   ]
  },
  {
   "cell_type": "markdown",
   "metadata": {
    "id": "_FHUM-CHG-Gd"
   },
   "source": [
    "# 1.\tWAP to read entire file named abc.txt\n",
    "\n"
   ]
  },
  {
   "cell_type": "code",
   "execution_count": 28,
   "metadata": {
    "id": "ybLtCnveG-Ge",
    "outputId": "092082a0-6010-4ee1-fd15-376801468c73"
   },
   "outputs": [
    {
     "name": "stdout",
     "output_type": "stream",
     "text": [
      "Hardik Ramchandani\n",
      "Line 1\n",
      "Line 2\n",
      "Line 3\n",
      "Line 4\n",
      "Line 5\n",
      "Line 6\n",
      "Line 7\n",
      "Line 8\n",
      "Line 9\n",
      "Line 10\n",
      "Line 11\n",
      "Line 12\n",
      "Line 13\n",
      "Line 14\n",
      "Line 15\n",
      "Line 16\n",
      "Line 17\n",
      "Line 18\n",
      "Line 19\n",
      "Line 20\n",
      "Line 21\n",
      "Line 22\n",
      "Line 23\n",
      "Line 24\n",
      "Line 25\n",
      "Line 26\n",
      "Line 27\n",
      "Line 28\n",
      "Line 29\n",
      "Line 30\n"
     ]
    }
   ],
   "source": [
    "with open(\"abc.txt\") as file:\n",
    "    data = file.read()\n",
    "    print(data)"
   ]
  },
  {
   "cell_type": "code",
   "execution_count": null,
   "metadata": {},
   "outputs": [],
   "source": []
  },
  {
   "cell_type": "markdown",
   "metadata": {},
   "source": [
    "# 2.\tWAP to read first 5 lines from the file named abc.txt"
   ]
  },
  {
   "cell_type": "code",
   "execution_count": 4,
   "metadata": {},
   "outputs": [],
   "source": [
    "with open(\"abc.txt\") as file:\n",
    "    data = file.readlines()\n",
    "    for i in range(5):\n",
    "        print(data[i],end=\"\")"
   ]
  },
  {
   "cell_type": "markdown",
   "metadata": {},
   "source": [
    "# 3.\tWAP to read file line by line and store lines as a List.\n"
   ]
  },
  {
   "cell_type": "code",
   "execution_count": 20,
   "metadata": {},
   "outputs": [
    {
     "name": "stdout",
     "output_type": "stream",
     "text": [
      "['Line 0\\n', 'Line 1\\n', 'Line 2\\n', 'Line 3\\n', 'Line 4\\n', 'Line 5\\n', 'Line 6\\n', 'Line 7\\n', 'Line 8\\n', 'Line 9\\n', 'Line 10\\n', 'Line 11\\n', 'Line 12\\n', 'Line 13\\n', 'Line 14\\n', 'Line 15\\n', 'Line 16\\n', 'Line 17\\n', 'Line 18\\n', 'Line 19\\n', 'Line 20\\n', 'Line 21\\n', 'Line 22\\n', 'Line 23\\n', 'Line 24\\n', 'Line 25\\n', 'Line 26\\n', 'Line 27\\n', 'Line 28\\n', 'Line 29\\n', 'Line 30']\n"
     ]
    }
   ],
   "source": [
    "with open(\"abc.txt\",\"a+\") as file:\n",
    "    data = file.readlines()\n",
    "    print(data)"
   ]
  },
  {
   "cell_type": "markdown",
   "metadata": {},
   "source": [
    "# 4.\tWAP to find the longest word in a file named abc.txt"
   ]
  },
  {
   "cell_type": "code",
   "execution_count": 24,
   "metadata": {},
   "outputs": [
    {
     "name": "stdout",
     "output_type": "stream",
     "text": [
      "Longest word: Ramchandani\n"
     ]
    }
   ],
   "source": [
    "count=0\n",
    "\n",
    "with open(\"abc.txt\",\"a+\") as file:\n",
    "    data = file.read().split()\n",
    "    for i in data:\n",
    "        if(len(i) > count):\n",
    "            count=len(i)\n",
    "            long=i\n",
    "    print(\"Longest word:\",long)"
   ]
  },
  {
   "cell_type": "markdown",
   "metadata": {},
   "source": [
    "# 5.\tWAP to count lines, word, and characters within a text file."
   ]
  },
  {
   "cell_type": "code",
   "execution_count": 2,
   "metadata": {},
   "outputs": [
    {
     "name": "stdout",
     "output_type": "stream",
     "text": [
      "Number of Lines: 31\n",
      "Number of Words: 62\n",
      "Number of Characters: 249\n"
     ]
    }
   ],
   "source": [
    "with open(\"abc.txt\") as file:\n",
    "    datal = file.readlines()\n",
    "    file.seek(0)\n",
    "    dataw = file.read().split()\n",
    "    file.seek(0)\n",
    "    datac = file.read()\n",
    "print(\"Number of Lines:\",len(datal))\n",
    "#print(dataw)\n",
    "#print(datac)\n",
    "print(\"Number of Words:\",len(dataw))\n",
    "print(\"Number of Characters:\",len(datac))"
   ]
  },
  {
   "cell_type": "markdown",
   "metadata": {},
   "source": [
    "# 6.\tWrite an application that reads a file and counts the number of occurrences of word."
   ]
  },
  {
   "cell_type": "code",
   "execution_count": 23,
   "metadata": {},
   "outputs": [
    {
     "name": "stdout",
     "output_type": "stream",
     "text": [
      "Enter the word:Line\n",
      "Line word occurs 30 times.\n"
     ]
    }
   ],
   "source": [
    "count = 0\n",
    "\n",
    "with open(\"abc.txt\") as file:\n",
    "    data = file.read().split()\n",
    "    word = input(\"Enter the word:\")\n",
    "    for i in data:\n",
    "        if (i == word):\n",
    "            count=count+1 \n",
    "    print(word,\"word occurs\",count,\"times.\")"
   ]
  },
  {
   "cell_type": "markdown",
   "metadata": {},
   "source": [
    "# 7.\tWAP to copy content of abc.txt to xyz.txt"
   ]
  },
  {
   "cell_type": "code",
   "execution_count": 34,
   "metadata": {},
   "outputs": [],
   "source": [
    "with open(\"abc.txt\",\"a+\") as file1:\n",
    "    data = file1.read()\n",
    "    with open(\"xyz.txt\",\"a+\") as file2:\n",
    "        file2.write(data)"
   ]
  },
  {
   "cell_type": "markdown",
   "metadata": {},
   "source": [
    "# 8.\tWAP to append next 50 prime numbers to a file named primenumbers.txt)"
   ]
  },
  {
   "cell_type": "code",
   "execution_count": 6,
   "metadata": {},
   "outputs": [],
   "source": [
    "count = 0\n",
    "num = 2\n",
    "\n",
    "with open(\"primenumbers.txt\",\"a+\") as file:\n",
    "    while(count < 50):\n",
    "        flag=True\n",
    "        for i in range(2,num):\n",
    "            if(num % i == 0):\n",
    "                flag=False\n",
    "                break\n",
    "        if(flag):\n",
    "            file.write(str(num)+\"\\n\")\n",
    "            count = count + 1\n",
    "        num=num+1"
   ]
  },
  {
   "cell_type": "code",
   "execution_count": 41,
   "metadata": {},
   "outputs": [
    {
     "name": "stdout",
     "output_type": "stream",
     "text": [
      "2\n",
      "3\n",
      "5\n",
      "7\n",
      "11\n",
      "13\n",
      "17\n",
      "19\n",
      "23\n",
      "29\n",
      "31\n",
      "37\n",
      "41\n",
      "43\n",
      "47\n",
      "53\n",
      "59\n",
      "61\n",
      "67\n",
      "71\n",
      "73\n",
      "79\n",
      "83\n",
      "89\n",
      "97\n",
      "101\n",
      "103\n",
      "107\n",
      "109\n",
      "113\n",
      "127\n",
      "131\n",
      "137\n",
      "139\n",
      "149\n",
      "151\n",
      "157\n",
      "163\n",
      "167\n",
      "173\n",
      "179\n",
      "181\n",
      "191\n",
      "193\n",
      "197\n",
      "199\n",
      "211\n",
      "223\n",
      "227\n",
      "229\n",
      "count = 50\n"
     ]
    }
   ],
   "source": [
    "count = 0\n",
    "num = 2\n",
    "\n",
    "while(count < 50):\n",
    "    flag=True\n",
    "    for i in range(2,num):\n",
    "        if(num % i == 0):\n",
    "            flag=False\n",
    "            break\n",
    "    if(flag):\n",
    "        print(num)\n",
    "        count=count+1\n",
    "    num=num+1\n",
    "print(\"count =\",count)"
   ]
  },
  {
   "cell_type": "code",
   "execution_count": null,
   "metadata": {},
   "outputs": [],
   "source": []
  }
 ],
 "metadata": {
  "colab": {
   "name": "Python (Lab - 03) (List) - Payal Parmar.ipynb",
   "provenance": []
  },
  "kernelspec": {
   "display_name": "Python 3 (ipykernel)",
   "language": "python",
   "name": "python3"
  },
  "language_info": {
   "codemirror_mode": {
    "name": "ipython",
    "version": 3
   },
   "file_extension": ".py",
   "mimetype": "text/x-python",
   "name": "python",
   "nbconvert_exporter": "python",
   "pygments_lexer": "ipython3",
   "version": "3.9.12"
  }
 },
 "nbformat": 4,
 "nbformat_minor": 1
}
